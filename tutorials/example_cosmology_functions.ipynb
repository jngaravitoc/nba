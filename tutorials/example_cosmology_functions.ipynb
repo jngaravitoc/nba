{
 "cells": [
  {
   "cell_type": "code",
   "execution_count": 1,
   "id": "0b3328a7",
   "metadata": {},
   "outputs": [],
   "source": [
    "import numpy as np\n",
    "from scipy.optimize import bisect, newton\n",
    "from nba import cosmology"
   ]
  },
  {
   "cell_type": "code",
   "execution_count": 2,
   "id": "6903e72d",
   "metadata": {},
   "outputs": [],
   "source": [
    "# Computing M200 and c200 from Mvir and Rvir"
   ]
  },
  {
   "cell_type": "code",
   "execution_count": 3,
   "id": "4bae35ed",
   "metadata": {},
   "outputs": [
    {
     "data": {
      "text/plain": [
       "(1258162355666.3281, 7.4142407804444135)"
      ]
     },
     "execution_count": 3,
     "metadata": {},
     "output_type": "execute_result"
    }
   ],
   "source": [
    "cosmology.NFW_200(Mvir=1.5e12, cvir=10)"
   ]
  },
  {
   "cell_type": "code",
   "execution_count": 4,
   "id": "d03e721c",
   "metadata": {},
   "outputs": [],
   "source": [
    "# Computing Mvir and cvir from M200 and R200"
   ]
  },
  {
   "cell_type": "code",
   "execution_count": 5,
   "id": "76ceadd3",
   "metadata": {},
   "outputs": [
    {
     "data": {
      "text/plain": [
       "(1500000000000.0254, 10.000000000000304)"
      ]
     },
     "execution_count": 5,
     "metadata": {},
     "output_type": "execute_result"
    }
   ],
   "source": [
    "cosmology.NFW_virial(M200=1258162355666.3281, c200=7.4142407804444135)"
   ]
  },
  {
   "cell_type": "markdown",
   "id": "4dfd0356",
   "metadata": {},
   "source": [
    "Test using the example provided in Van der Marel 2012 Appendix:\n",
    "\n",
    "As an example, we consider a halo with:\n",
    "- cvir = 10. This yields:\n",
    "- c200 = 7.4,\n",
    "- M200/Mvir = 0.84,\n",
    "- a200/rs = 2.01, \n",
    "- MH,200/Mvir = 1.36,\n",
    "- avir/rs = 2.09,\n",
    "- MH,vir/Mvir = 1.46"
   ]
  },
  {
   "cell_type": "code",
   "execution_count": 6,
   "id": "5f5e2bfb",
   "metadata": {},
   "outputs": [],
   "source": [
    "cvir = 10"
   ]
  },
  {
   "cell_type": "code",
   "execution_count": 7,
   "id": "51b45d8f",
   "metadata": {},
   "outputs": [
    {
     "name": "stdout",
     "output_type": "stream",
     "text": [
      "7.4142407804444135\n"
     ]
    }
   ],
   "source": [
    "c200 = cosmology.cvirc200(cvir=cvir)\n",
    "print(c200)"
   ]
  },
  {
   "cell_type": "code",
   "execution_count": 8,
   "id": "5dedf700",
   "metadata": {},
   "outputs": [
    {
     "name": "stdout",
     "output_type": "stream",
     "text": [
      "0.838774903777552\n"
     ]
    }
   ],
   "source": [
    "m200_mvvir = cosmology.m200mvir(c200=c200, cvir=cvir)\n",
    "print(m200_mvvir)"
   ]
  },
  {
   "cell_type": "code",
   "execution_count": 9,
   "id": "71226767",
   "metadata": {},
   "outputs": [
    {
     "name": "stdout",
     "output_type": "stream",
     "text": [
      "2.0084720832290817\n"
     ]
    }
   ],
   "source": [
    "a_rs_200 = cosmology.ars(c200)\n",
    "print(a_rs_200)"
   ]
  },
  {
   "cell_type": "code",
   "execution_count": 10,
   "id": "c0f7c3de",
   "metadata": {},
   "outputs": [
    {
     "name": "stdout",
     "output_type": "stream",
     "text": [
      "1.354765007225358\n"
     ]
    }
   ],
   "source": [
    "mh_mvir = cosmology.mhmvir(a_rs_200, cvir)\n",
    "print(mh_mvir)"
   ]
  },
  {
   "cell_type": "code",
   "execution_count": 11,
   "id": "24ee64bd",
   "metadata": {},
   "outputs": [
    {
     "name": "stdout",
     "output_type": "stream",
     "text": [
      "14.891295625861204\n"
     ]
    }
   ],
   "source": [
    "a_rs = a_rs_200 * c200\n",
    "print(a_rs)"
   ]
  },
  {
   "cell_type": "code",
   "execution_count": 12,
   "id": "5e1ec3f4",
   "metadata": {},
   "outputs": [
    {
     "name": "stdout",
     "output_type": "stream",
     "text": [
      "110.40765130291365\n"
     ]
    }
   ],
   "source": [
    "r200 = c200 * a_rs\n",
    "print(r200)"
   ]
  },
  {
   "cell_type": "code",
   "execution_count": 20,
   "id": "e84c4659",
   "metadata": {},
   "outputs": [
    {
     "name": "stdout",
     "output_type": "stream",
     "text": [
      "2.0854317687463464\n"
     ]
    }
   ],
   "source": [
    "avir = cosmology.ars(cvir)\n",
    "print(avir)"
   ]
  },
  {
   "cell_type": "code",
   "execution_count": 21,
   "id": "94452aa5",
   "metadata": {},
   "outputs": [
    {
     "data": {
      "text/plain": [
       "1.4605766103702342"
      ]
     },
     "execution_count": 21,
     "metadata": {},
     "output_type": "execute_result"
    }
   ],
   "source": [
    "cosmology.mhmvir(avir, cvir)"
   ]
  }
 ],
 "metadata": {
  "kernelspec": {
   "display_name": "Python 3 (ipykernel)",
   "language": "python",
   "name": "python3"
  },
  "language_info": {
   "codemirror_mode": {
    "name": "ipython",
    "version": 3
   },
   "file_extension": ".py",
   "mimetype": "text/x-python",
   "name": "python",
   "nbconvert_exporter": "python",
   "pygments_lexer": "ipython3",
   "version": "3.10.12"
  }
 },
 "nbformat": 4,
 "nbformat_minor": 5
}
